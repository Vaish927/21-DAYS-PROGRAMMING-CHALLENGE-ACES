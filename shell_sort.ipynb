{
 "cells": [
  {
   "cell_type": "markdown",
   "metadata": {},
   "source": [
    "# shell_sort"
   ]
  },
  {
   "cell_type": "code",
   "execution_count": 1,
   "metadata": {},
   "outputs": [
    {
     "name": "stdout",
     "output_type": "stream",
     "text": [
      "Enter Array Elements:\n",
      "23 89 65 34 -76 -4 87 0 297 7 3\n",
      "Unsorted Array: [23, 89, 65, 34, -76, -4, 87, 0, 297, 7, 3]\n",
      "Sorted Array : [-76, -4, 0, 3, 7, 23, 34, 65, 87, 89, 297]\n"
     ]
    }
   ],
   "source": [
    "class sorting_algos:\n",
    "    def shell_sort(array):\n",
    "        n=len(array)\n",
    "        gap=n//2\n",
    "        while(gap>0):\n",
    "            for i in range(gap,n):\n",
    "                j=array[i]#assign value at ith location to j\n",
    "                pos=i#position=index\n",
    "                while(pos>=gap and j<array[pos-gap]):\n",
    "                    array[pos]=array[pos-gap]\n",
    "                    pos=pos-gap\n",
    "                array[pos]=j\n",
    "            gap=gap//2\n",
    "        return array\n",
    "print(\"Enter Array Elements:\")            \n",
    "arr=list(map(int,input().split()))#enter elements in one line separated by space\n",
    "print(\"Unsorted Array:\",arr)\n",
    "obj=sorting_algos\n",
    "res=obj.shell_sort(arr)\n",
    "print(\"Sorted Array :\",arr)\n"
   ]
  }
 ],
 "metadata": {
  "kernelspec": {
   "display_name": "Python 3",
   "language": "python",
   "name": "python3"
  },
  "language_info": {
   "codemirror_mode": {
    "name": "ipython",
    "version": 3
   },
   "file_extension": ".py",
   "mimetype": "text/x-python",
   "name": "python",
   "nbconvert_exporter": "python",
   "pygments_lexer": "ipython3",
   "version": "3.7.6"
  }
 },
 "nbformat": 4,
 "nbformat_minor": 4
}
