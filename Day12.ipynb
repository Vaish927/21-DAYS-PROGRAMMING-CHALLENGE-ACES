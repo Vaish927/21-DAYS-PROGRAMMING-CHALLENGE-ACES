{
 "cells": [
  {
   "cell_type": "code",
   "execution_count": null,
   "metadata": {},
   "outputs": [],
   "source": [
    "#problem link:https://leetcode.com/explore/learn/card/fun-with-arrays/511/in-place-operations/3259/\n",
    "class Solution:\n",
    "    def replaceElements(self, arr: List[int]) -> List[int]:\n",
    "        n=len(arr)\n",
    "        for i in range(n-1):\n",
    "            arr[i]=max(arr[i+1:n])\n",
    "        arr[n-1]=-1\n",
    "        return arr\n"
   ]
  },
  {
   "cell_type": "code",
   "execution_count": null,
   "metadata": {},
   "outputs": [],
   "source": [
    "#problem link:https://practice.geeksforgeeks.org/problems/value-equal-to-index-value1330/1/?category[]=Searching&problemStatus=solved&difficulty[]=-2&page=1&query=category[]SearchingproblemStatussolveddifficulty[]-2page1\n",
    "class Solution:\n",
    "\n",
    "\tdef valueEqualToIndex(self,arr, n):\n",
    "\t    flag=list()\n",
    "\t    for i in range(n+1):\n",
    "\t        if(i==arr[i-1]):\n",
    "\t            flag.append(arr[i-1])\n",
    "\t    return flag\n",
    "\t       \n",
    "\t\t"
   ]
  }
 ],
 "metadata": {
  "kernelspec": {
   "display_name": "Python 3",
   "language": "python",
   "name": "python3"
  },
  "language_info": {
   "codemirror_mode": {
    "name": "ipython",
    "version": 3
   },
   "file_extension": ".py",
   "mimetype": "text/x-python",
   "name": "python",
   "nbconvert_exporter": "python",
   "pygments_lexer": "ipython3",
   "version": "3.7.6"
  }
 },
 "nbformat": 4,
 "nbformat_minor": 4
}
