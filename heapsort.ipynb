{
 "cells": [
  {
   "cell_type": "code",
   "execution_count": null,
   "metadata": {},
   "outputs": [],
   "source": []
  },
  {
   "cell_type": "code",
   "execution_count": 3,
   "metadata": {},
   "outputs": [
    {
     "name": "stdout",
     "output_type": "stream",
     "text": [
      "Sorted array is\n",
      "1 5 6 9 10 12 "
     ]
    }
   ],
   "source": [
    "def heapify(arr, n, i):\n",
    "      # Find largest among root and children\n",
    "      largest = i\n",
    "      l = 2 * i + 1\n",
    "      r = 2 * i + 2\n",
    "  \n",
    "      if l < n and arr[i] < arr[l]:\n",
    "          largest = l\n",
    "  \n",
    "      if r < n and arr[largest] < arr[r]:\n",
    "          largest = r\n",
    "  \n",
    "      # If root is not largest, swap with largest and continue heapifying\n",
    "      if largest != i:\n",
    "          arr[i], arr[largest] = arr[largest], arr[i]\n",
    "          heapify(arr, n, largest)\n",
    "  \n",
    "  \n",
    "def heapSort(arr):\n",
    "      n = len(arr)\n",
    "  \n",
    "      # Build max heap\n",
    "      for i in range(n//2, -1, -1):\n",
    "          heapify(arr, n, i)\n",
    "  \n",
    "      for i in range(n-1, 0, -1):\n",
    "          # Swap\n",
    "          arr[i], arr[0] = arr[0], arr[i]\n",
    "  \n",
    "          # Heapify root element\n",
    "          heapify(arr, i, 0)\n",
    "  \n",
    "  \n",
    "arr = [1, 12, 9, 5, 6, 10]\n",
    "heapSort(arr)\n",
    "n = len(arr)\n",
    "print(\"Sorted array is\")\n",
    "for i in range(n):  \n",
    "      print(\"%d \" % arr[i], end='')\n",
    "    "
   ]
  }
 ],
 "metadata": {
  "kernelspec": {
   "display_name": "Python 3",
   "language": "python",
   "name": "python3"
  },
  "language_info": {
   "codemirror_mode": {
    "name": "ipython",
    "version": 3
   },
   "file_extension": ".py",
   "mimetype": "text/x-python",
   "name": "python",
   "nbconvert_exporter": "python",
   "pygments_lexer": "ipython3",
   "version": "3.7.6"
  }
 },
 "nbformat": 4,
 "nbformat_minor": 4
}
