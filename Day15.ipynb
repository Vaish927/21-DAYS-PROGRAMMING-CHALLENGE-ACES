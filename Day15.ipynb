{
 "cells": [
  {
   "cell_type": "code",
   "execution_count": 3,
   "metadata": {},
   "outputs": [
    {
     "name": "stdout",
     "output_type": "stream",
     "text": [
      "Enter Sorted Array:\n",
      "0 0 1 1 2 2 3 3 4\n",
      "Array without duplicates: [0, 1, 2, 3, 4]\n"
     ]
    }
   ],
   "source": [
    "def dupno(arr):\n",
    "    n=len(arr)\n",
    "    res=list()\n",
    "    j=0\n",
    "    for i in range(n):\n",
    "        if(arr[i]!=arr[i-1]):\n",
    "            res.append(arr[i])\n",
    "            j+=1\n",
    "    return res\n",
    "print(\"Enter Sorted Array:\")\n",
    "arr=list(map(int,input().split()))\n",
    "print(\"Array without duplicates:\",dup(arr))"
   ]
  },
  {
   "cell_type": "code",
   "execution_count": 5,
   "metadata": {},
   "outputs": [
    {
     "name": "stdout",
     "output_type": "stream",
     "text": [
      "Enter Array:\n",
      "1 0 7 89 0 4\n",
      "[1, 7, 89, 4, 0, 0]\n"
     ]
    }
   ],
   "source": [
    "def moveZeroes(nums):\n",
    "        n=len(nums)\n",
    "        j=0\n",
    "        for  i in range(n):\n",
    "            if(nums[i]!=0):\n",
    "                nums[j],nums[i]=nums[i],nums[j]\n",
    "                j+=1\n",
    "        return nums\n",
    "print(\"Enter Array:\")\n",
    "arr=list(map(int,input().split()))\n",
    "print(moveZeroes(arr))\n",
    "                "
   ]
  },
  {
   "cell_type": "code",
   "execution_count": 2,
   "metadata": {},
   "outputs": [
    {
     "name": "stdout",
     "output_type": "stream",
     "text": [
      "Enter Array:\n",
      "1 56 8 3 2 9 0 44 76 5\n",
      "[56, 8, 2, 0, 44, 76, 3, 1, 9, 5]\n"
     ]
    }
   ],
   "source": [
    "def sortArrayByParity(A):\n",
    "        n=len(A)\n",
    "        j=0\n",
    "        for i in range(n):\n",
    "            if(A[i]%2==0):\n",
    "                A[j],A[i]=A[i],A[j]\n",
    "                j+=1\n",
    "        return A\n",
    "print(\"Enter Array:\")\n",
    "arr=list(map(int,input().split()))\n",
    "print(sortArrayByParity(arr))"
   ]
  },
  {
   "cell_type": "code",
   "execution_count": 3,
   "metadata": {},
   "outputs": [
    {
     "name": "stdout",
     "output_type": "stream",
     "text": [
      "Enter Array:\n",
      "4 5 -3 -9 50 12 6 -8\n",
      "[9, 16, 25, 36, 64, 81, 144, 2500]\n"
     ]
    }
   ],
   "source": [
    "def sortedSquares(A):\n",
    "        req_list = sorted([abs(i)**2 for i in A])\n",
    "        return req_list\n",
    "print(\"Enter Array:\")\n",
    "arr=list(map(int,input().split()))\n",
    "print(sortedSquares(arr))"
   ]
  },
  {
   "cell_type": "code",
   "execution_count": null,
   "metadata": {},
   "outputs": [],
   "source": []
  }
 ],
 "metadata": {
  "kernelspec": {
   "display_name": "Python 3",
   "language": "python",
   "name": "python3"
  },
  "language_info": {
   "codemirror_mode": {
    "name": "ipython",
    "version": 3
   },
   "file_extension": ".py",
   "mimetype": "text/x-python",
   "name": "python",
   "nbconvert_exporter": "python",
   "pygments_lexer": "ipython3",
   "version": "3.7.6"
  }
 },
 "nbformat": 4,
 "nbformat_minor": 4
}
