{
 "cells": [
  {
   "cell_type": "markdown",
   "metadata": {},
   "source": [
    "# counting_sort"
   ]
  },
  {
   "cell_type": "code",
   "execution_count": 5,
   "metadata": {},
   "outputs": [
    {
     "name": "stdout",
     "output_type": "stream",
     "text": [
      "Enter Array Elements:\n",
      "1 5 9 0 2 1 7 4 2 9 6 8 1 7 5\n",
      "Unsorted Array:  [1, 5, 9, 0, 2, 1, 7, 4, 2, 9, 6, 8, 1, 7, 5]\n",
      "Sorted Array:  [0, 1, 1, 1, 2, 2, 4, 5, 5, 6, 7, 7, 8, 9, 9]\n"
     ]
    }
   ],
   "source": [
    "def countingSort(array):\n",
    "    size = len(array)\n",
    "    output = [0] * size\n",
    "    count = [0] * 10\n",
    "    for i in range(0, size):\n",
    "        count[array[i]] += 1\n",
    "    for i in range(1, 10):\n",
    "        count[i] += count[i - 1]\n",
    "    i = size - 1\n",
    "    while i >= 0:\n",
    "        output[count[array[i]] - 1] = array[i]\n",
    "        count[array[i]] -= 1\n",
    "        i -= 1\n",
    "    for i in range(0, size):\n",
    "        array[i] = output[i]\n",
    "\n",
    "print(\"Enter Array Elements:\")\n",
    "arr= list(map(int,input().split()))\n",
    "print(\"Unsorted Array: \",arr)\n",
    "countingSort(arr)\n",
    "print(\"Sorted Array: \",arr)"
   ]
  },
  {
   "cell_type": "markdown",
   "metadata": {},
   "source": [
    "# radix_sort"
   ]
  },
  {
   "cell_type": "code",
   "execution_count": 4,
   "metadata": {},
   "outputs": [
    {
     "name": "stdout",
     "output_type": "stream",
     "text": [
      "Enter Array Elements:\n",
      "121 432 564 23 1 45 788\n",
      "Unsorted Array: [121, 432, 564, 23, 1, 45, 788]\n",
      "Sorted Array: [1, 23, 45, 121, 432, 564, 788]\n"
     ]
    }
   ],
   "source": [
    "def countingSort(array, place):\n",
    "    size = len(array)\n",
    "    output = [0] * size\n",
    "    count = [0] * 10\n",
    "    for i in range(0, size):\n",
    "        index = array[i] // place\n",
    "        count[index % 10] += 1\n",
    "    for i in range(1, 10):\n",
    "        count[i] += count[i - 1]\n",
    "    i = size - 1\n",
    "    while i >= 0:\n",
    "        index = array[i] // place\n",
    "        output[count[index % 10] - 1] = array[i]\n",
    "        count[index % 10] -= 1\n",
    "        i -= 1\n",
    "\n",
    "    for i in range(0, size):\n",
    "        array[i] = output[i]\n",
    "def radixSort(array):\n",
    "    max_element = max(array)\n",
    "    place = 1\n",
    "    while max_element // place > 0:\n",
    "        countingSort(array, place)\n",
    "        place *= 10\n",
    "\n",
    "print(\"Enter Array Elements:\")\n",
    "arr= list(map(int,input().split()))\n",
    "print(\"Unsorted Array:\",arr)\n",
    "radixSort(arr)\n",
    "print(\"Sorted Array:\",arr)"
   ]
  }
 ],
 "metadata": {
  "kernelspec": {
   "display_name": "Python 3",
   "language": "python",
   "name": "python3"
  },
  "language_info": {
   "codemirror_mode": {
    "name": "ipython",
    "version": 3
   },
   "file_extension": ".py",
   "mimetype": "text/x-python",
   "name": "python",
   "nbconvert_exporter": "python",
   "pygments_lexer": "ipython3",
   "version": "3.7.6"
  }
 },
 "nbformat": 4,
 "nbformat_minor": 4
}
