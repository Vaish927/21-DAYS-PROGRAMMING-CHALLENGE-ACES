{
 "cells": [
  {
   "cell_type": "markdown",
   "metadata": {},
   "source": [
    "# practice problem\n"
   ]
  },
  {
   "cell_type": "code",
   "execution_count": 1,
   "metadata": {},
   "outputs": [
    {
     "name": "stdout",
     "output_type": "stream",
     "text": [
      "Enter Elements in Array:\n",
      "1 2 3 4 5 9 6 33 19\n",
      "Array: [1, 2, 3, 4, 5, 9, 6, 33, 19]\n",
      "Enter the kth value:3\n",
      "kth largest: 9\n",
      "kth Smallest: 3\n"
     ]
    }
   ],
   "source": [
    "#problem: to find kth largest and smallest value in array\n",
    "print(\"Enter Elements in Array:\") \n",
    "arr=list(map(int,input().split()))\n",
    "n=len(arr)\n",
    "print(\"Array:\",arr) \n",
    "k=int(input(\"Enter the kth value:\"))\n",
    "arr.sort()\n",
    "print(\"kth largest:\",arr[n-k])\n",
    "print(\"kth Smallest:\",arr[k-1])"
   ]
  },
  {
   "cell_type": "code",
   "execution_count": null,
   "metadata": {},
   "outputs": [],
   "source": [
    "#prblem link:https://leetcode.com/explore/learn/card/fun-with-arrays/525/inserting-items-into-an-array/3245\n",
    "class Solution:\n",
    "    def duplicateZeros(self, arr: List[int]) -> None:\n",
    "        i, n = 0, len(arr)\n",
    "        while i < n-1:\n",
    "            if arr[i] == 0:\n",
    "                if i + 2 < n:\n",
    "                    arr[i+2:n] = arr[i+1:n-1]\n",
    "                arr[i+1] = 0\n",
    "                i += 1\n",
    "            i += 1"
   ]
  }
 ],
 "metadata": {
  "kernelspec": {
   "display_name": "Python 3",
   "language": "python",
   "name": "python3"
  },
  "language_info": {
   "codemirror_mode": {
    "name": "ipython",
    "version": 3
   },
   "file_extension": ".py",
   "mimetype": "text/x-python",
   "name": "python",
   "nbconvert_exporter": "python",
   "pygments_lexer": "ipython3",
   "version": "3.7.6"
  }
 },
 "nbformat": 4,
 "nbformat_minor": 4
}
