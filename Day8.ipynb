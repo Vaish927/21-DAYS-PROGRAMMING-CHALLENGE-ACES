{
 "cells": [
  {
   "cell_type": "markdown",
   "metadata": {},
   "source": [
    "# selection_sort\n"
   ]
  },
  {
   "cell_type": "code",
   "execution_count": 3,
   "metadata": {},
   "outputs": [
    {
     "name": "stdout",
     "output_type": "stream",
     "text": [
      "7 4 9 1 2 6 12\n",
      "unsorted array: [7, 4, 9, 1, 2, 6, 12]\n",
      "sorted array: [1, 2, 4, 6, 7, 9, 12]\n"
     ]
    }
   ],
   "source": [
    "arr=list(map(int,input().split()))\n",
    "print(\"unsorted array:\",arr)\n",
    "n=len(arr)\n",
    "for i in range(n):\n",
    "    mid_ind=i\n",
    "    for j in range(i+1,n):\n",
    "        if(arr[mid_ind]>arr[j]):\n",
    "            mid_ind=j\n",
    "    arr[i],arr[mid_ind]=arr[mid_ind],arr[i]\n",
    "print(\"sorted array:\",arr)"
   ]
  },
  {
   "cell_type": "markdown",
   "metadata": {},
   "source": [
    "# quick_sort"
   ]
  },
  {
   "cell_type": "code",
   "execution_count": 6,
   "metadata": {},
   "outputs": [
    {
     "name": "stdout",
     "output_type": "stream",
     "text": [
      "Unsorted Array: [10, 7, 8, 9, 1, 5]\n",
      "Sorted array is: [1, 5, 7, 8, 9, 10]\n"
     ]
    }
   ],
   "source": [
    "def partition(arr, low, high):\n",
    "    i = (low-1)        \n",
    "    pivot = arr[high]     \n",
    "    for j in range(low, high):\n",
    "        if arr[j] <= pivot:\n",
    "            i = i+1\n",
    "            arr[i], arr[j] = arr[j], arr[i]\n",
    " \n",
    "    arr[i+1], arr[high] = arr[high], arr[i+1]\n",
    "    return (i+1)\n",
    "def quickSort(arr, low, high):\n",
    "    if len(arr) == 1:\n",
    "        return arr\n",
    "    if low < high:\n",
    "        pi = partition(arr, low, high)\n",
    "        quickSort(arr, low, pi-1)\n",
    "        quickSort(arr, pi+1, high)\n",
    "arr = [10, 7, 8, 9, 1, 5]\n",
    "print(\"Unsorted Array:\",arr)\n",
    "n = len(arr)\n",
    "quickSort(arr, 0, n-1)\n",
    "print(\"Sorted array is:\",arr)"
   ]
  },
  {
   "cell_type": "code",
   "execution_count": null,
   "metadata": {},
   "outputs": [],
   "source": []
  }
 ],
 "metadata": {
  "kernelspec": {
   "display_name": "Python 3",
   "language": "python",
   "name": "python3"
  },
  "language_info": {
   "codemirror_mode": {
    "name": "ipython",
    "version": 3
   },
   "file_extension": ".py",
   "mimetype": "text/x-python",
   "name": "python",
   "nbconvert_exporter": "python",
   "pygments_lexer": "ipython3",
   "version": "3.7.6"
  }
 },
 "nbformat": 4,
 "nbformat_minor": 4
}
