{
 "cells": [
  {
   "cell_type": "code",
   "execution_count": 1,
   "metadata": {},
   "outputs": [
    {
     "name": "stdout",
     "output_type": "stream",
     "text": [
      "Found at index: 8\n"
     ]
    }
   ],
   "source": [
    "# Python3 program for Fibonacci search. \n",
    "from bisect import bisect_left \n",
    "\n",
    "\n",
    "def fibMonaccianSearch(arr, x, n): \n",
    "    fibMMm2 = 0 # (m-2)'th Fibonacci No. \n",
    "    fibMMm1 = 1 # (m-1)'th Fibonacci No. \n",
    "    fibM = fibMMm2 + fibMMm1 # m'th Fibonacci \n",
    "\n",
    "\n",
    "    while (fibM < n): \n",
    "        fibMMm2 = fibMMm1 \n",
    "        fibMMm1 = fibM \n",
    "        fibM = fibMMm2 + fibMMm1 \n",
    "    offset = -1; \n",
    "\n",
    "\n",
    "    while (fibM > 1): \n",
    "\n",
    "        i = min(offset+fibMMm2, n-1) \n",
    "\n",
    "\n",
    "        if (arr[i] < x): \n",
    "            fibM = fibMMm1 \n",
    "            fibMMm1 = fibMMm2 \n",
    "            fibMMm2 = fibM - fibMMm1 \n",
    "            offset = i \n",
    "\n",
    "\n",
    "        elif (arr[i] > x): \n",
    "            fibM = fibMMm2 \n",
    "            fibMMm1 = fibMMm1 - fibMMm2 \n",
    "            fibMMm2 = fibM - fibMMm1 \n",
    "\n",
    "\n",
    "        else : \n",
    "            return i \n",
    "\n",
    "\n",
    "    if(fibMMm1 and arr[offset+1] == x): \n",
    "        return offset+1; \n",
    "\n",
    "\n",
    "    return -1\n",
    "\n",
    " \n",
    "arr = [10, 22, 35, 40, 45, 50, 80, 82, 85, 90, 100] \n",
    "n = len(arr) \n",
    "x = 85\n",
    "print(\"Found at index:\",) \n",
    "fibMonaccianSearch(arr, x, n)) \n",
    "\n",
    "\n"
   ]
  }
 ],
 "metadata": {
  "kernelspec": {
   "display_name": "Python 3",
   "language": "python",
   "name": "python3"
  },
  "language_info": {
   "codemirror_mode": {
    "name": "ipython",
    "version": 3
   },
   "file_extension": ".py",
   "mimetype": "text/x-python",
   "name": "python",
   "nbconvert_exporter": "python",
   "pygments_lexer": "ipython3",
   "version": "3.7.6"
  }
 },
 "nbformat": 4,
 "nbformat_minor": 4
}
