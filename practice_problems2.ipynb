{
 "cells": [
  {
   "cell_type": "markdown",
   "metadata": {},
   "source": [
    "# gfg problems"
   ]
  },
  {
   "cell_type": "code",
   "execution_count": 21,
   "metadata": {
    "scrolled": true
   },
   "outputs": [
    {
     "name": "stdout",
     "output_type": "stream",
     "text": [
      "5512 9493 6319 7495 1725 9719 8305 410 4862 2154 8357 5887 1151 4483 6770 5179\n",
      "8\n",
      "48978\n",
      "38843\n",
      "10135\n",
      "10135\n"
     ]
    }
   ],
   "source": [
    "#problem link:https://practice.geeksforgeeks.org/problems/balanced-array07200720/1/?category[]=Arrays&problemStatus=solved&page=1&query=category[]ArraysproblemStatussolvedpage1\n",
    "def minValueToBalance(a,n):\n",
    "        #code here.\n",
    "        mid=n//2\n",
    "        print(mid)\n",
    "        #int(mid)\n",
    "        s1=sum(a[:mid])\n",
    "        print(s1)\n",
    "        s2=sum(a[mid:])\n",
    "        print(s2)\n",
    "        diff=s1-s2\n",
    "        print(diff)\n",
    "        if(diff<0):\n",
    "            return -diff\n",
    "        else:\n",
    "            return diff\n",
    "a=list(map(int,input().split()))\n",
    "n=len(a)\n",
    "print(minValueToBalance(a,n))"
   ]
  },
  {
   "cell_type": "code",
   "execution_count": null,
   "metadata": {},
   "outputs": [],
   "source": []
  },
  {
   "cell_type": "code",
   "execution_count": null,
   "metadata": {},
   "outputs": [],
   "source": [
    "#problem link:https://practice.geeksforgeeks.org/problems/minimum-number-to-form-the-sum-even0326/1/?category[]=Arrays&problemStatus=solved&page=1&query=category[]ArraysproblemStatussolvedpage1\n",
    "def minNum(self, arr, n):\n",
    "        # Your code goes here\n",
    "        s=sum(arr)\n",
    "        if(s%2==0):\n",
    "            return 2\n",
    "        else:\n",
    "            return 1\n"
   ]
  },
  {
   "cell_type": "code",
   "execution_count": null,
   "metadata": {},
   "outputs": [],
   "source": [
    "#problem link:https://practice.geeksforgeeks.org/problems/fighting-the-darkness3949/0/?category[]=Arrays&problemStatus=unsolved&page=1&query=category[]ArraysproblemStatusunsolvedpage1\n",
    "def maxDays(self, arr, n):\n",
    "        # code here\n",
    "        return max(arr)\n"
   ]
  },
  {
   "cell_type": "code",
   "execution_count": null,
   "metadata": {},
   "outputs": [],
   "source": [
    "#problem link:https://practice.geeksforgeeks.org/problems/count-the-zeros2550/1/?category[]=Arrays&problemStatus=unsolved&page=1&query=category[]ArraysproblemStatusunsolvedpage1\n",
    "def countZeroes(self, arr, n):\n",
    "        # code here\n",
    "        count=0\n",
    "        for i in range(n):\n",
    "            if(arr[i]==0):\n",
    "                count+=1\n",
    "        return count\n",
    "\n",
    "    "
   ]
  },
  {
   "cell_type": "code",
   "execution_count": 11,
   "metadata": {},
   "outputs": [
    {
     "name": "stdout",
     "output_type": "stream",
     "text": [
      "2\n",
      "5 2\n",
      "1 2 3 4 5\n",
      "3 4 5 1 2 \n",
      "10 3\n",
      "2 4 6 8 10 12 14 16 18 20\n",
      "8 10 12 14 16 18 20 2 4 6 \n"
     ]
    }
   ],
   "source": [
    "#problem link:https://practice.geeksforgeeks.org/problems/rotate-array-by-n-elements/0/?category[]=Arrays&problemStatus=unsolved&page=1&query=category[]ArraysproblemStatusunsolvedpage1\n",
    "t=int(input())\n",
    "while(t>0):\n",
    "    [n,d]=list(map(int,input().split()))\n",
    "    arr=list(map(int,input().split()))\n",
    "    temp=arr[:d]\n",
    "    del arr[:d]\n",
    "    arr.extend(temp)\n",
    "    for i in range(n):\n",
    "        print(arr[i],end=\" \")\n",
    "    print()\n",
    "    t-=1"
   ]
  },
  {
   "cell_type": "code",
   "execution_count": null,
   "metadata": {},
   "outputs": [],
   "source": [
    "#problem link:https://practice.geeksforgeeks.org/problems/nuts-and-bolts-problem0431/1/?category[]=Arrays&problemStatus=unsolved&page=1&query=category[]ArraysproblemStatusunsolvedpage1\n",
    "def matchPairs(self,nuts, bolts, n):\n",
    "    # code here\n",
    "    nuts.sort()\n",
    "    bolts.sort()"
   ]
  },
  {
   "cell_type": "code",
   "execution_count": null,
   "metadata": {},
   "outputs": [],
   "source": [
    "#problem link:https://practice.geeksforgeeks.org/problems/kth-smallest-element/0/?category[]=Arrays&problemStatus=unsolved&page=1&query=category[]ArraysproblemStatusunsolvedpage1\n",
    "t=int(input())\n",
    "while(t>0):\n",
    "    n=int(input())\n",
    "    arr=list(map(int,input().split()))\n",
    "    k=int(input())\n",
    "    arr.sort()\n",
    "    print(arr[k-1])\n",
    "    t-=1"
   ]
  },
  {
   "cell_type": "code",
   "execution_count": null,
   "metadata": {},
   "outputs": [],
   "source": [
    "#problem link:https://practice.geeksforgeeks.org/problems/number-of-occurrence2259/0/?category[]=Arrays&problemStatus=unsolved&page=1&query=category[]ArraysproblemStatusunsolvedpage1\n",
    "def count(self,arr, n, x):\n",
    "    # code here\n",
    "    cnt=arr.count(x)\n",
    "    return cnt\n"
   ]
  },
  {
   "cell_type": "code",
   "execution_count": null,
   "metadata": {},
   "outputs": [],
   "source": [
    "#problem link:https://practice.geeksforgeeks.org/problems/maximum-value-in-a-bitonic-array3001/0/?category[]=Arrays&problemStatus=unsolved&page=1&query=category[]ArraysproblemStatusunsolvedpage1\n",
    "def findMaximum(self,arr, n):\n",
    "\t\t# code here\n",
    "\t\treturn max(arr)"
   ]
  },
  {
   "cell_type": "code",
   "execution_count": null,
   "metadata": {},
   "outputs": [],
   "source": []
  }
 ],
 "metadata": {
  "kernelspec": {
   "display_name": "Python 3",
   "language": "python",
   "name": "python3"
  }
 },
 "nbformat": 4,
 "nbformat_minor": 4
}
